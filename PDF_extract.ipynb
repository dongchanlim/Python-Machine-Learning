{
  "nbformat": 4,
  "nbformat_minor": 0,
  "metadata": {
    "colab": {
      "name": "PDF_extract.ipynb",
      "provenance": [],
      "collapsed_sections": [],
      "authorship_tag": "ABX9TyNYhqteXkezsttmUSWsurq7",
      "include_colab_link": true
    },
    "kernelspec": {
      "name": "python3",
      "display_name": "Python 3"
    }
  },
  "cells": [
    {
      "cell_type": "markdown",
      "metadata": {
        "id": "view-in-github",
        "colab_type": "text"
      },
      "source": [
        "<a href=\"https://colab.research.google.com/github/dongchanlim/Python-Machine-Learning/blob/main/PDF_extract.ipynb\" target=\"_parent\"><img src=\"https://colab.research.google.com/assets/colab-badge.svg\" alt=\"Open In Colab\"/></a>"
      ]
    },
    {
      "cell_type": "code",
      "metadata": {
        "id": "kti-Et1u9SoR",
        "colab": {
          "resources": {
            "http://localhost:8080/nbextensions/google.colab/files.js": {
              "data": "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",
              "ok": true,
              "headers": [
                [
                  "content-type",
                  "application/javascript"
                ]
              ],
              "status": 200,
              "status_text": ""
            }
          },
          "base_uri": "https://localhost:8080/",
          "height": 113
        },
        "outputId": "6ec0605b-c1bc-4abd-c8c8-b746b7d34a1e"
      },
      "source": [
        "from google.colab import files\n",
        "\n",
        "file = files.upload()"
      ],
      "execution_count": null,
      "outputs": [
        {
          "output_type": "display_data",
          "data": {
            "text/html": [
              "\n",
              "     <input type=\"file\" id=\"files-ad362aab-9475-49d8-b35a-55a27af15f01\" name=\"files[]\" multiple disabled\n",
              "        style=\"border:none\" />\n",
              "     <output id=\"result-ad362aab-9475-49d8-b35a-55a27af15f01\">\n",
              "      Upload widget is only available when the cell has been executed in the\n",
              "      current browser session. Please rerun this cell to enable.\n",
              "      </output>\n",
              "      <script src=\"/nbextensions/google.colab/files.js\"></script> "
            ],
            "text/plain": [
              "<IPython.core.display.HTML object>"
            ]
          },
          "metadata": {
            "tags": []
          }
        },
        {
          "output_type": "stream",
          "text": [
            "Saving fb3153e7-ea84-4261-800d-fe9bf5960051-160227025811.pdf to fb3153e7-ea84-4261-800d-fe9bf5960051-160227025811 (2).pdf\n"
          ],
          "name": "stdout"
        },
        {
          "output_type": "execute_result",
          "data": {
            "text/plain": [
              "{'fb3153e7-ea84-4261-800d-fe9bf5960051-160227025811.pdf': b'%PDF-1.7\\n%\\xe4\\xe3\\xcf\\xd2\\n1 0 obj\\n[/PDF/ImageB/ImageC/ImageI/Text]\\nendobj\\n4 0 obj\\n<</Length 5 0 R/Filter/FlateDecode>>\\nstream\\nx\\x9c\\xd5XKs\\xe28\\x10\\xbe\\xf3+tJ\\xcdT-\\x8e-\\x83\\r{3\\x8f\\x90L\\x85,\\x1b\\xa0\\xb2\\x87\\xb9(\\xb60\\xda\\xb2\\xa5\\x94lg\\x86\\xfc\\xfa\\x95dL\\xb9$\\'\\x18\\x92\\x9d\\x9a\\xf8B!\\xab\\xfb\\xeb\\x97\\xba?y\\xb4\\xea\\\\^\\xd9\\xc0\\xb7 Xm:\\xea\\xe7\\xb6\\xe3Z\\x1e\\xf0\\x06=\\xb0\\x8a:_&(\\xc7\\x7f~]\\xfd\\xdb\\x19xV\\x0f\\xd8j\\rz\\xdd\\xab\\xe9\\xa8\\x0bm\\xc7\\x93o\\xba\\xeaU\\xd7\\x19\\xa8\\x97w(5\\x04\\xae\\xd0\\x0ba\\x7f\\x044\\xe2\\xf8\\x07\\xf8\\xc62\\xfc\\xb4\\xad\\t\\x0e\\xd5\\x9e\\x9b\\x89.\\xe5@\\xb7\\xdf\\x1b\\xfa\\xd0\\xd8*m\\x02l\\x03F\\x84\\xe7[]\\xca\\xf6.\\x1d\\xff\\xf2\\x1f\\xf1\\x98\\xb6Mp\\xcc1\\xce@\\xf0\\x03\\xf1\\x08G\\xa5\\xa8\\xe5\\x1d\\x14\\xcfI\\x96\\xb1\\x82\\x13\\xb0\\xa6\\xe4\\x19\\xf3\\x8c\\xe4;\\x89\\xb3\\x0c\\t\\xa6!\\x06\\x88F`\\x85\\xc3-e\\t\\x8bw\\xba\\xf0x\\x8bS\\x12\\xa2\\x04LiL(\\xc6\\x9c\\xd0\\x18\\x8c\\x96r\\x9b\\xd3\\x83V\\xdf;\\xb8\\xd5u\\x862x}e\\xa0\\xe3\\xba\\xd6\\x10VJ\\xbe\\x7fY\\x16i\\x8a\\xc0\\xb8H\\xc1-*\"\\xfc\\xfdk\\xe9\\x86\\x0e\\x94\\xe5|\\x07\\xe6\\x842~\\x14\\xa0|\\xb7\\x17\\xae\\x1b7G\\x14\\xc58\\xc54o\\xa9\\xa9?\\xb4DYt\\xa1_f5\\xb8\\xbd\\x05\\xd0\\xb6\\x87\\xf2e\\xcf\\x15\\xb5SJ\\x05\\xd13\\x12\\xe1\\x8a\\xc0\"Aa\\xa9~\\xccqDr\\xa5Dm\\xdc\\x1bs-\\xdc\\x90\\x8b\\xee\\xc0\\x1a\\x0c*L\\xc7Q\\xfa|\\xab_)\\x9c\"\\x9e\\xec\\xc0\\x03\\xcer\\xcc)\\x18\\x93g\\x92\\x90\\x17\\x94\\x13F\\x95\\xc5}\\xe7\\x00=UIwD\\x1dW\\xea\\x80k\\xd9\\n\\x17\\xf6{\\x12\\xe4Md\\xa8#\\xcfY$!?\\x08z\\x1f\\xb7\\xe5\\xe2n&\\xe2\\xe6\\xd8Z\\xdc\\x96\\x88\\x88P\\xdd\\xb2\\x82d\\xf5\\x02\\x9c\\x8be0F\\xe9S\\x91\\x19\\x01\\\\>!j\\xbaa\\xebn\\x8cY\\x9a\\x16T\\x14g.\\xd3.\\xd4I9\\x92m\\xc1\\x8d\\xeeE\\xd0\\xd6\\x89}\\xf2\\r\\'\\xde\\x99|\\xbf\\xaf\\xdb\\x1e\\xa4\\xa2XCD\\x81\\xdc\\xcfD\\xd1\\xe7\\x0c8\\x03\\xdf\\xff\\xd8\\xd4\\xfb\\xdeQ\\xdc%\\x91=\\xe0L\\xe8#Q\\xfb\\xb0\\xd4\\x1b\\xe1{=\\xf5\\xe7\\xe7\\xfe\\xdb\\xfan*\\xbdpJ\\r\\xaa)\\x94\\x12\\xeb\\xd9\\xfdD.\\xc2\\xbe\\xeci{-j\\x17\\xb4\\x86^}A4\\x96\\x81\\xe5\\x1f\\xbc\\x99\\xa3|\\xab{\\xd33}I\\x12\\x1cc\\x10$1~\\xe4\\xe8\\x944\\xd8\\xbe\\xe5\\x1ez \\x10\\xcf5\\x17c \\xcfA\\xf9\\xc8\\x7fSq\\xc0\\xcb\\xe7\\xefBt\\xf1E\\x9e\\x81\\xea\\x99-\\x822\\xfe\\xca\\x98\\xbd\\x16\\xe9\\xab\\x18\\x07<Uc\\xc4\\xf7-\\xbfr\\xb0\\xcc\\xae\\xe5V\\x86Y\\xda\\x7f\\xf5^\\x18~\\x08\\x9b\\xdbF\\xc0\\xb3\\xad\\xde\\xe0\\x14\\x04\\xfd\\x7f\\x17B[.\\xd5\\xed\\x1f\\xaf\\xe7\\x86\\xf9^+\\xe5\\xb5\\xbc@m\\x83\\xd3\\xca\\x7f\\xcfr\\xbcW\\x14\\xf4\\xceq\\xcf,\\x9d\\x13\\x15\\x98\\xf1\\xf2=\\x19\\xf2\\xaa\\xec\\x83\\xf5\\xec\\x17T\\xbd\\xd1\\x88V\\x9c\\xc4\\x8c\\xb2\\x14\\x8b\\x89\\xdf\\xa2\\xe4\\xe1\\xe7(y=\\xe5\\x9f\\xbc\\xe4[\\x9d\\xe0\\xcfW\\xf2\\xd5\\xbcr\\xce\\x9e\\xf2\\x92\\xac\\xea\\xa6\\xda\\xb6A\\xf1f\\x98b.J\\xf0\\xc0m[Tz\\xafq\\xbc7\\x03\\x1a\\xcc\\xce\\x00\\x14t\\xfb\\x91q$G}\\x0bl\\xa7\\x11[\\x90\\xeb\\xc4\\xc0\\x86F\\xf1L\\x7f>11\\xdf\\x05\\x89TW\\x8a\\x80\\xc7\\x85\\x0c\\xe1\\xfb\\x18mS/\\xb1\\x1ds\\x86\\xa2$,\\x92\"\\x03\\x1b\\xc6\\x0f7\\x95\\xcc$\\x82\\xad\\xe3\\xbd`\\x89\\xbc \\x19\\xd0C\\xc3\\xed\\x03\\xa3\\x9a1Ap\\xa8t\\xf9\\xfdL\\xaa]7\\xbe\\xba\\xef\\x8e\\xaf\\xc1\\xf4n\\xa6\\xdbTve(\\xee`\\xf0\\xcd\\n\\x12\\x1d\\xd1=\\xb9f\\x8f\\x13\\xaa7\\x01\\x8d\\xdc\\xdd\\xd0\\x9c\\xb3KQ\\xa7`\\x8968\\xdf]\\\\\\xa3\\x170\\xcf\\xf9q\\xdcW\\xca5d\\x06\\x85\\x04\\x0e4\\x0e\\xe7B\\xdc\\x16\\xe5=xNB\\xcep(\\x87\\x11\\t\\xb3s\\xbd\\xbdRug\\xfak^[\\x96y\\x11\\xed\\xc0\\x85`\\xc0\\\\\\x15\\xa9\\xb0BH\\x9e\\xed\\xee\\xcddj\\xa2\\x9a\\xa7SEY\\xde2$\\x16\\x98\\xe0\\x8c\\xc4\\xc6\\xa9l\\xebk\\xd3\\xa1\\x14\\x9e\\x9a,]\\x9c\\xca\\xeaD\\xca\\xd3\\xd8\\x82\\x9b7\\x9f\\xc6y\\x91\\x91\\xd0Dt\\r\\xc4\\x07B\\xa3\\x8b\\x05\\xe6a\\x91e\\xb2\\x11Mi\\x86\\xd3\\xc7\\x04\\x9f\\x10\\xdc\\xff\\x9f`\\xb8V\\xef\\xf01H\\x1bW\\'O\\xec\\xb3\\x14\\xd4\\'\\xb6.\\xf0\\x9bM\\xec&\\x86S\\x8b\\x9f\\xce7Z\\xf1\\xafz\\xfc\\xfa\\xe7\\xb8_\\x8f\\xdf@\\xdb\\xa0\\xff\\xff=\\x18O\\xf5q\\x06\\xfe\\xa2\\xb9\\x02\\xcdv\\xfb\\x17\\x8f\\xc5\\x15=\\xacQ\\x93\\xb3\\xdb\\x81\\xb8\\xfd?5Mg\\x00\\xfa\\xc68;\\xf4\\xbd\\x05g1GiJ\\xca.}\\xd6D{\\x1d\\xb7y\\xaai\\xb8\\x92\\x8c\\x9d\\xdb\\xe6\\x9b{.4\\x18\\xa0\\xea\\xb9\\x0f$\\xdf\\x82\\x80\\xa2d\\x07f\\x98\\xa5\\xa2\\xf3\\x1a\\xb1\\x1e\\xbd\\xb3\\xf5\\x1a\\'\\xa9\\xf6\\x81g$\\xf8\\xdfq?a3\\xf1\\xda\\xee\\xb2\\xfd\\x18\\xd6\\\\5R[\\xff\\xe8\\xbb\\x173k\\xeau?\\xcb>\\xe2\\xc3r\\xf9\\xe4\\x8f\\xe4\\xf5\\xeb\\xc0\\x9a\\xb2\\xcd\\x86\\x84D\\x0c\\x83 D\\x91\\xfcb\\x0e\\xee\\x05\\xa5\\xe0*\\x0c\\xd3U\\xe7?_\\x06\\xc9\\xfb\\nendstream\\nendobj\\n5 0 obj\\n1244\\nendobj\\n7 0 obj\\n<</ProcSet 1 0 R/Font<</F0 6 0 R>>>>\\nendobj\\n9 0 obj\\n<</Length 10 0 R/Filter/FlateDecode>>\\nstream\\nx\\x9c\\xedZAs\\xe26\\x14\\xbe\\xf3+t\\xca\\xb4\\x07\\\\\\xdb\\xb21\\xf4F\\x08$;\\x1364\\x90\\xd9\\xb3b\\x04hk\\xacT6\\xdb\\xe1\\xdf\\xafd0M\\x9e\\xb0-;@\\xd2i}I$\\xac\\xf7\\xf4\\x9ex\\xdf\\xf7I\\xe2z\\xd6\\xfamd\\xa3\\xc0r\\xd1l\\xd1\\xca\\xfe\\xdc\\xb7|\\xc7r\\\\\\xd4\\xe9a4\\x9b\\xb7~A\\xf2\\xb9\\x13\\t\\xea\\xa7)\\xda=\\xaa5\\x14\\xf1\\xbe\\xf5\\xc7\\x86Dh\\x92&(\\x7fn\\'\\xfd_g\\xdf[m/\\xb0|\\x17\\xb5{\\x99\\x95\\xa7\\xdb\\xc7\\x1b4\\xa3b\\xfd\\xbb\\xfa,\\xc0\\x96\\xe7!;\\xfb\\xc4Q\\x1d\\x9e\\x85\\xdd}\\xbb\\x0b\\xda\\x16h\\xdbY;\\xb3\\xfd\\x0e\\x03~\\xc7r:\\xfb\\x8e\\x0ex\\xc13\\x9a\\x01h\\xe3\\xae\\xd5\\xed\\xee;p\\x85\\x01\\xbf\\xa2\\x9dM\\xa8\\xed\\x06\\x1d\\xcb\\xeb\\xbeI\\xe0\\xe0i\\xac\\xe5\\x0f\\xce\\x16\\xce\\xae2\\x7f\\x01x\\xc15\\xca\\x9fcu\\x8bV\\x10\\x86cd\\xf0=\\xf9\\x84+~\\xd4\\xe0!\\x9fn\\x90u\\x8e\\xfa\\xf7\\xf7\\xc8\\xb5\\x9dlv\\x8e\\xdf\\xfb\\'\\x1e\\x95j\\xd5\\xe9\\xfaV/71\\xb8C\\xc3\\xaf\\xb7\\xed\\xeb)\\xcc\\x1e\\xda\\xd9\\xc6\\xd8r\\x0fk5X\\xd15\\x8c\\x01\\xb9.\\x86c\\x1f\\xc4\\x92\\xc4,D\\xea}\\x96\\xa4b\\x8b\\xbe|\\xd9\\xcd\\xc6\\xb1\\xf2w\\xb2Zr\\x02e}o\\xc8\\xb3\\xf6\\xf1\\xf8\\x9e2_\\xee\\xd3\\xab\\xf6yO\\x9e\\xab\\x9d:\\x85N\\xd10^j\\x8e\\x1dW\\xfb\\x9a\\xe5\\xef\\xa21I\\xd1\\x95\\xfc\\x8f\\x8a\\xe5\\x16]\\x93\\x88\\xc4!M\\xaag\\x80\\x8f\\xce@\\x1a[\\xe9a\\xdbZ\\xd8\\xc3Hz\\xbfa\\x8b\\x05\\x154F\\xc3\\xbf6$e<n\\xecv\\xb2\\xda&,L4\\xcfHO\\xb8\\x0c\\x99\\xc5\\x94\\n&C\\xdf\\x0f\\xab\\xb7\\xccv`\\xe1N\\xee\\xf8\\xd2h\\x0ck\\xb96\\x1a\\x1b\\x19(Cc3<+A\\x8fFp^\\x88\\x1e\\x15h\\\\\\x05\\xed\\x95\\xf9\\x83X\\x06\\xd1\\xb9\\x12\\x8d!\\xda\\xc2\\x05\\xb98\\x1a\\x1fM\\tD\\xe3\\xe9\\xe4\\xeb\\xadBc|!4F\\xa8\\x0b\\xc7\\xaa\\xd2a\\xa9\\xc4\\x85\\x1f\\x14\\xf5c\\x12\\xc9R5\\xc0\\x07\\xb7\\x06\\x1a{\\x0e\\xf4\\xb9\\x03\\x04Y\\xb2\\x078\\x86\\x1e\\xaf\\r\\x11\\xa9\\x18\\x8au\\xaf\\xf9\\xbb\\x02\\xcdV\\x12\\x048\\xd2\\xe0\\xe8\\x04^}\\xe8UB\\xb5DA\\x125\\x06\\xddBg\\xae\\xa3\\'V\\x900e!E$\\x9e\\xa3a\\xba\\xda\\x83u\\x13\\x92\\xbb\\x93\\xeb\\xc2w\\x0b\\xf3\\xc6+\\xf64\\xac\\x1f\\xb0\\x1f,B\\xdf\\x88\\x90\\x04\\xf7HCI0\\xa9\\xd8\\x84i\\x8d\\x80\\xffc`\\x0f\\x07\\x9c]zW\\xb1K-\\xb0\\x87\\xd8lFU\\xd8*J\\x1f\\x1c_[\\x89\\xc3\\x010Z\\xd8\\xfe\\\\J\\xfcL\\xd8\\x7f\\x1c2\\xb0\\x06\\x19\\xa3h\\xc3\\xe6h\\x14\\xf1\\xbfO\\x8e\\x86rR\\xd0\\xdb\\x1d\\x952x&H\\x9cHI\\xfa\\x1e\\x9a9\\xeeP\\x87_\\x1d\\xf4\\rDh\\xcd8\\xb1\\xd7\\x83n\\xa7\\x19\\x02^M\\x04\\x7fiOx\\xb4]S\\xd1\\x98\\x00\\xb2\\xdd\\xc32\\xd5\\xc9\\x06kH<&1Y*\\xc9\\x9dE\\xacH`F\\xc3\\xd5\\xe9\\x1d\\x07\\xd0\\xf1P\\xa2\\xfeA> \\xbe\\xd8M@\\x86\\xff\\x9d\\x86i\\x1d=\\xf1\\xa1L`\\x06\\x14%L`d\\xa0L\\xf6C\\x83g\\x87*\\xe8\\x10\\xd7a\\x02h\\xcc,\\x7f\\xc5L\\xd0\\xecL\\xeb\\x15\\x13\\xc0\\xe8!3\\x18m+\\xce\\xc9\\x04\\xee1&\\xc8w\\x01\\xdeE\\x99@\\x97qJ\\x8c+U\\x9e\\xd5\\xee=y6\\x11\\xc8u\\x11\\x1ak\\x08=M\\xc9\\x92\\xce\\xd1\\x98$I\\rf\\xa8ME\\x1ad\\rx\\x9c\\xb2x\\xc37\\xc9\\xb9}{\\x9a\\xef1\\x8fh\\xb8\\x89\\xa4b\\x1e\\xac\\xf21\\'Eh\\xdde\\xb6\\xa8\\xfd0\\xe4\\x1b\\x15\\xf62#\\x87\\x11\\x8b\\xd51TS\\xefr\\xe5t\\xd7\\xae\\xa3\\xad\\xf0\\xeb\\xb3 5F\\xee,\\x8c6&\\x9fc{`\\x86\\x19%\\xa4`v\\x96QB\\n\\x17\\xd7\\xaf\\xb0\\xfd\\x16\\xb5\\x8e\\x90B\\xa7\\xa7\\xeeN\\xcc\\xe4}\\xd5d\\xaaH\\x02\\x8e7\\xdb}\\x95\\x90D\\xaf\\xd1\\x04\\xcf\\xc8\\xc1o/B\\xc0v\\xe1\\x92$!\\x9f\\xc1\\xc3\\xc3DGN\\xfeB\\xc5\\xee\\xc8\\xe8\\x1b\\x17\\x7f*\\x9d\\xb7\\x14d\\r+\\x1ai\\x15m_\\xae\\xa2\\x03+\\xe8\\x14,X\\xe57\\xc4h@\\xc7V\\xcbSc\\x80\\xbe!tm\\xd5\\xf5\\x7fA}HA\\xe5\\xaa\\xcb\\xbf\\\\Aa\\xc7/\\xbc \\x12\\xe8\\x91\\x920\\xe5\\x02\\xdd\\xd0\\x84-\\xe3S\\xcb\\x10\\xcf\\xeeu\\xca\\x15\\x9f\\xda\\xc3\\xf1\\xb5\\x113\\xd7S}\\x9e\\xe3haK\\xc8\\x08\\xa9T]J\\x85\\t\\x1e\\x9d<\\xda#Wq\\xc0\\xe59n\\x00=\\x07\\x1f]` \\xab\\x1b\\x1f<\\x17\\xe8=\\x8c\\xf5\\x04?H\\x88FW\\n\\x9a\\xe7\\x9bP\\xdd\\xfa\\xe5\\x03\\xff\\r\\x9a\\xeb\\xe3\\x8fd?|\\xa7Xy$[F\\x11\\xcd~]RL\\x110;\\xb5\\x19\\x15\\x9ep72xN\\x8a\\xf0\\x8eR\\xc4\\xd3\\xf8\\xc2\\x0c\\xe1\\xd9\\xb6\\xf6\\xdd\\x9e\\xbe\\xd0\\x90\\xa9\\xfa\\x12\\xfc9\\xa2\\xeb\\xcf\\xb5qz%\\xb3\\x8ch\\xbeL7T\\x16\\xe9\\xc9/uOsI\\xde\\xf3-\\xdbC\\x81\\xbb\\xeb\\x1b\\xb3$\\xe1\\x1b\\xc1\\xd0S,\\x05\\xb2HX\\xbaU\\x07\\xa2\\xd3\\x90\\xd1x\\x7f3\\xa7\\x0eec\\x1e\\xf1\\xe5\\xf6Pwyvc\\xbeX\\xb0l\\xb9\\xfb!\\x99+\\xe6\\xc8\\xae\\xd4\\xc4\\\\\\xbd9\\x9c\\xb5~\\x02&=\\x9a4\\nendstream\\nendobj\\n10 0 obj\\n1261\\nendobj\\n11 0 obj\\n<</ProcSet 1 0 R/Font<</F0 6 0 R>>>>\\nendobj\\n13 0 obj\\n<</Length 14 0 R/Filter/FlateDecode>>\\nstream\\nx\\x9c\\xb5\\x95]o\\x9b0\\x14\\x86\\xef\\xf9\\x15\\xe7r\\xbb\\x88\\x87\\xb1\\xcd\\xc7\\xeehK\\xd2I\\xc9\\x94\\x15\\xf2\\x03\\x10q\\x88\\xab\\xc4\\x960\\xdd\\xd4\\x7f?cBV\\x99f!\\x9d\\xe6\\x1bt\\xec\\xe3\\xf79\\xfez\\xb9+\\xbc/s\\x1f\"\\x14@\\xb1\\xf3\\xecg\\xe9\\x11\\x14B\\x98\\x10(\\xb6\\xde\\xa7\\xcd\\xe2\\xe9\\x01\\xee7\\xab\\xaf\\x9f\\x8bg/L\\x10\\x0e\\xc0\\xb7\\x03\\xb8\\xeb\\xa0\\x88\\x0cq\\xe0\\xc4\\xee8rb\\xdf\\xc6\\x04]\\xcagNL\\xa6\\xe81\\x8cbz\\xea\\xa0NBx\\xa5\\xe0\\xf7\\x0btb\\x12\\xa38\\x9eXQ|eG\\xec\\xf8,\\x88BDc0_\\xdb9O\\x97K\\x08|l\\x97\\x8fY\\xf2g=\\xddIt\\x9d\\x01C\\xc9 q\\xff\\x08\\xd9\\xf7\\xc5\\xec.\\xb7\\xd2\\x11b\\xc3\\x00\\xf4\\xda\\xc4\\xec\\xaf\\xd1N\\xfa\\xe4=?B&kw\\x1d`Z\\x9a\\xe7Y>R\\xc9\\xb9\\x14\\xaa\\x81Tk\\xae\\xf5\\x91\\xcb\\xb6/\\n\\x9f\\x0f\\xcd\\xce\\xc0Q\\x079i\\xf9\\xc8\\xef\\xd1\\x8cv\\x84+h\\xea\\'\\x91\\x0b]7\\xaa28x\\xe0Z\\xd4\\xd2%\\xa6#\"\\xb9\\x8d\\x88\\x99\\xef\\x12M.\\x0c\\xd4\\xf9A\\xfd\\xd2{\\xce[\\xd1\\xcf\\xfd\\x08\\xdb`aU\\xb7\\xa3\\xfbB\\x82\\x11\\xfa\\x9bl\\x1b\\x05\\xad\\xea\\xf8\\xcf\\xbcjaU\\xca\\xb2\\xe6\\xef\\xed\\xf5?\\xd2i\\x84G\\xf4\\x1f/\\xe5A\\xb4\\xaf7\\x90\\xfc\\x08\\x91p u\\x17\\xe7\\xb1\\xd1\\x90\\xb6-\\xf4\\xad\\x8b\\xb2F\\x9e\\xa2N\\x1e\\xd6\\xad\\x86\\xa1-\\xd6Vz\\xd6\\xd7pR\\xb1\\x0eS\\xf0\\xe6h-&\"\\x88\\xd2\\x0b\\x0ff\\xda\\x8b}\\xb3\\xbe\\x0f\\t\\xb0\\x10\\xe1\\xf0\\x82\\x87\\xb8O\\xfaf\\xcfp\\x05\\'\\t\\xb8\\xf1\\xd93\\xdel\\xe0\\x14\\x8bv\\rk\\x92\\xa5\\xfe\\xc5\\xa2]Gu-\\xfb\\xaaE\\xbb\\x13\\\\\\x80\\xbb\\xfa\\xffn\\xd1n\\xbe-p\\x960\\xe4S\\xc0\\xac\\xff#\\xae\\x84\\xd6\\xea\\xa5\\x11\\xb0\\x91\\xe2\\'o\\xb4y@\\xa0v\\x90W\\x82\\xcb\\x8aC)\\xb7\\xe66W{\\xa9\\x0e\\xaa~=\\xef\\xe0pVR\\xedv\\xa2\\x12\\xe6a\\xa4U\\xb9\\xe5GQ\\xc1\\x13\\xafT\\xb3\\xed2\\xb3\\xc2\\xfb\\rG\\x03\\xb2o\\nendstream\\nendobj\\n14 0 obj\\n507\\nendobj\\n15 0 obj\\n<</ProcSet 1 0 R/Font<</F0 6 0 R>>>>\\nendobj\\n16 0 obj\\n<</Title (/u01/CSPRDR/SQR_USSR0300_1973493/ussr0300_1973493.PDF)\\n/Creator (SQR for PeopleSoft/8.53.12/Intel/Red Hat Linux/Oracle/Mar 19 2014)\\n/CreationDate (D:20160226203717-06\\'00\\')\\n/Producer (PDFlib 8.0.1p1-b \\\\(Linux-x86_64\\\\))\\n>>\\nendobj\\n6 0 obj\\n<</Type/Font/Subtype/Type1/BaseFont/Courier/FontDescriptor 17 0 R/FirstChar 0/LastChar 255/Widths[\\n600 600 600 600 600 600 600 600 600 600 600 600 600 600 600 600\\n600 600 600 600 600 600 600 600 600 600 600 600 600 600 600 600\\n600 600 600 600 600 600 600 600 600 600 600 600 600 600 600 600\\n600 600 600 600 600 600 600 600 600 600 600 600 600 600 600 600\\n600 600 600 600 600 600 600 600 600 600 600 600 600 600 600 600\\n600 600 600 600 600 600 600 600 600 600 600 600 600 600 600 600\\n600 600 600 600 600 600 600 600 600 600 600 600 600 600 600 600\\n600 600 600 600 600 600 600 600 600 600 600 600 600 600 600 600\\n600 600 600 600 600 600 600 600 600 600 600 600 600 600 600 600\\n600 600 600 600 600 600 600 600 600 600 600 600 600 600 600 600\\n600 600 600 600 600 600 600 600 600 600 600 600 600 600 600 600\\n600 600 600 600 600 600 600 600 600 600 600 600 600 600 600 600\\n600 600 600 600 600 600 600 600 600 600 600 600 600 600 600 600\\n600 600 600 600 600 600 600 600 600 600 600 600 600 600 600 600\\n600 600 600 600 600 600 600 600 600 600 600 600 600 600 600 600\\n600 600 600 600 600 600 600 600 600 600 600 600 600 600 600 600]\\n/Encoding/WinAnsiEncoding>>\\nendobj\\n17 0 obj\\n<</Type/FontDescriptor/Flags 35/Ascent 627/CapHeight 573/Descent -373/FontBBox[-56 -250 678 857]/FontName/Courier/ItalicAngle 0/StemV 109/XHeight 435>>\\nendobj\\n3 0 obj\\n<</Type/Page/Parent 2 0 R/Contents 4 0 R/Resources 7 0 R/MediaBox[0 0 612 792]>>\\nendobj\\n8 0 obj\\n<</Type/Page/Parent 2 0 R/Contents 9 0 R/Resources 11 0 R/MediaBox[0 0 612 792]>>\\nendobj\\n12 0 obj\\n<</Type/Page/Parent 2 0 R/Contents 13 0 R/Resources 15 0 R/MediaBox[0 0 612 792]>>\\nendobj\\n2 0 obj\\n<</Type/Pages/Count 3/Kids[ 3 0 R 8 0 R 12 0 R]>>\\nendobj\\n18 0 obj\\n<</Type/Catalog/Pages 2 0 R>>\\nendobj\\nxref\\n0 19\\n0000000000 65535 f \\n0000000015 00000 n \\n0000005381 00000 n \\n0000005089 00000 n \\n0000000063 00000 n \\n0000001377 00000 n \\n0000003754 00000 n \\n0000001397 00000 n \\n0000005185 00000 n \\n0000001449 00000 n \\n0000002781 00000 n \\n0000002802 00000 n \\n0000005282 00000 n \\n0000002855 00000 n \\n0000003434 00000 n \\n0000003454 00000 n \\n0000003507 00000 n \\n0000004921 00000 n \\n0000005446 00000 n \\ntrailer\\n<</Size 19/Root 18 0 R/Info 16 0 R/ID[<35885CC71552D016E6F5682D5676CE9A><35885CC71552D016E6F5682D5676CE9A>]>>\\nstartxref\\n5492\\n%%EOF\\n'}"
            ]
          },
          "metadata": {
            "tags": []
          },
          "execution_count": 22
        }
      ]
    },
    {
      "cell_type": "code",
      "metadata": {
        "id": "aZk2ORu7-QFx",
        "colab": {
          "base_uri": "https://localhost:8080/",
          "height": 70
        },
        "outputId": "75d7e992-8ba9-4aea-e3a4-d39ac4dc8cc8"
      },
      "source": [
        "!pip install PyPDF2"
      ],
      "execution_count": null,
      "outputs": [
        {
          "output_type": "stream",
          "text": [
            "Requirement already satisfied: PyPDF2 in /usr/local/lib/python3.6/dist-packages (1.26.0)\n",
            "\u001b[31mERROR: Could not find a version that satisfies the requirement StringIO (from versions: none)\u001b[0m\n",
            "\u001b[31mERROR: No matching distribution found for StringIO\u001b[0m\n"
          ],
          "name": "stdout"
        }
      ]
    },
    {
      "cell_type": "code",
      "metadata": {
        "id": "4FluBA9b9iAd",
        "colab": {
          "base_uri": "https://localhost:8080/",
          "height": 241
        },
        "outputId": "887527f0-a2a1-4e61-a246-28aad542278d"
      },
      "source": [
        "import PyPDF2\n",
        "import string\n",
        "\n",
        "pdf_file = open([i for i in file.keys()][0], 'rb')\n",
        "read_pdf = PyPDF2.PdfFileReader(pdf_file)\n",
        "count = read_pdf.numPages\n",
        "\n",
        "text = []\n",
        "\n",
        "for i in range(count):\n",
        "  text += read_pdf.getPage(i).extractText().strip()\n",
        "\n",
        "\n",
        "grade = [\"A\", \"A-\", \"B+\", \"B\", \"B-\", \"C+\", \"C\", \"C-\", \"D\", \"F\"]\n",
        "\n",
        "\n",
        "text"
      ],
      "execution_count": null,
      "outputs": [
        {
          "output_type": "error",
          "ename": "TypeError",
          "evalue": "ignored",
          "traceback": [
            "\u001b[0;31m---------------------------------------------------------------------------\u001b[0m",
            "\u001b[0;31mTypeError\u001b[0m                                 Traceback (most recent call last)",
            "\u001b[0;32m<ipython-input-49-b13a0a243a47>\u001b[0m in \u001b[0;36m<module>\u001b[0;34m()\u001b[0m\n\u001b[1;32m      2\u001b[0m \u001b[0;32mimport\u001b[0m \u001b[0mstring\u001b[0m\u001b[0;34m\u001b[0m\u001b[0;34m\u001b[0m\u001b[0m\n\u001b[1;32m      3\u001b[0m \u001b[0;34m\u001b[0m\u001b[0m\n\u001b[0;32m----> 4\u001b[0;31m \u001b[0mpdf_file\u001b[0m \u001b[0;34m=\u001b[0m \u001b[0mopen\u001b[0m\u001b[0;34m(\u001b[0m\u001b[0mfile\u001b[0m\u001b[0;34m.\u001b[0m\u001b[0mget\u001b[0m\u001b[0;34m(\u001b[0m\u001b[0;36m0\u001b[0m\u001b[0;34m)\u001b[0m\u001b[0;34m,\u001b[0m \u001b[0;34m'rb'\u001b[0m\u001b[0;34m)\u001b[0m\u001b[0;34m\u001b[0m\u001b[0;34m\u001b[0m\u001b[0m\n\u001b[0m\u001b[1;32m      5\u001b[0m \u001b[0mread_pdf\u001b[0m \u001b[0;34m=\u001b[0m \u001b[0mPyPDF2\u001b[0m\u001b[0;34m.\u001b[0m\u001b[0mPdfFileReader\u001b[0m\u001b[0;34m(\u001b[0m\u001b[0mpdf_file\u001b[0m\u001b[0;34m)\u001b[0m\u001b[0;34m\u001b[0m\u001b[0;34m\u001b[0m\u001b[0m\n\u001b[1;32m      6\u001b[0m \u001b[0mcount\u001b[0m \u001b[0;34m=\u001b[0m \u001b[0mread_pdf\u001b[0m\u001b[0;34m.\u001b[0m\u001b[0mnumPages\u001b[0m\u001b[0;34m\u001b[0m\u001b[0;34m\u001b[0m\u001b[0m\n",
            "\u001b[0;31mTypeError\u001b[0m: expected str, bytes or os.PathLike object, not NoneType"
          ]
        }
      ]
    },
    {
      "cell_type": "code",
      "metadata": {
        "id": "V2ZiwbRHLT6Q",
        "colab": {
          "base_uri": "https://localhost:8080/",
          "height": 104
        },
        "outputId": "36ade866-6c10-4350-b155-3251a502673b"
      },
      "source": [
        "information = read_pdf.getDocumentInfo()\n",
        "information"
      ],
      "execution_count": null,
      "outputs": [
        {
          "output_type": "execute_result",
          "data": {
            "text/plain": [
              "{'/Author': 'Amanda Butler',\n",
              " '/CreationDate': \"D:20200706105754-06'00'\",\n",
              " '/Creator': 'Microsoft® Word for Microsoft 365',\n",
              " '/ModDate': \"D:20200706105754-06'00'\",\n",
              " '/Producer': 'Microsoft® Word for Microsoft 365'}"
            ]
          },
          "metadata": {
            "tags": []
          },
          "execution_count": 15
        }
      ]
    },
    {
      "cell_type": "code",
      "metadata": {
        "id": "znmfOJMc_1Du",
        "colab": {
          "base_uri": "https://localhost:8080/",
          "height": 245
        },
        "outputId": "9fd227a8-7eae-4e8f-c8a3-f68112bcaf3e"
      },
      "source": [
        "!pip3 install tabula-py"
      ],
      "execution_count": null,
      "outputs": [
        {
          "output_type": "stream",
          "text": [
            "Collecting tabula-py\n",
            "\u001b[?25l  Downloading https://files.pythonhosted.org/packages/8d/ed/20655a47a603430272c995d908d0dd96f93c2aa8973c8a55a66c8f3b8dfe/tabula_py-2.1.1-py3-none-any.whl (10.4MB)\n",
            "\u001b[K     |████████████████████████████████| 10.4MB 3.7MB/s \n",
            "\u001b[?25hRequirement already satisfied: numpy in /usr/local/lib/python3.6/dist-packages (from tabula-py) (1.18.5)\n",
            "Requirement already satisfied: pandas>=0.25.3 in /usr/local/lib/python3.6/dist-packages (from tabula-py) (1.0.5)\n",
            "Collecting distro\n",
            "  Downloading https://files.pythonhosted.org/packages/25/b7/b3c4270a11414cb22c6352ebc7a83aaa3712043be29daa05018fd5a5c956/distro-1.5.0-py2.py3-none-any.whl\n",
            "Requirement already satisfied: python-dateutil>=2.6.1 in /usr/local/lib/python3.6/dist-packages (from pandas>=0.25.3->tabula-py) (2.8.1)\n",
            "Requirement already satisfied: pytz>=2017.2 in /usr/local/lib/python3.6/dist-packages (from pandas>=0.25.3->tabula-py) (2018.9)\n",
            "Requirement already satisfied: six>=1.5 in /usr/local/lib/python3.6/dist-packages (from python-dateutil>=2.6.1->pandas>=0.25.3->tabula-py) (1.12.0)\n",
            "Installing collected packages: distro, tabula-py\n",
            "Successfully installed distro-1.5.0 tabula-py-2.1.1\n"
          ],
          "name": "stdout"
        }
      ]
    },
    {
      "cell_type": "code",
      "metadata": {
        "id": "skqkRxMj_o7I",
        "colab": {
          "base_uri": "https://localhost:8080/",
          "height": 156
        },
        "outputId": "d6e3b35f-c3b6-4339-babb-482263b7abaa"
      },
      "source": [
        "from tabula import read_pdf\n",
        "\n",
        "df = read_pdf(\"UNOFFICIAL ACADEMIC RECORDS (1).pdf\", pages='all')\n",
        "\n",
        "print(df)"
      ],
      "execution_count": null,
      "outputs": [
        {
          "output_type": "stream",
          "text": [
            "Got stderr: Jul 06, 2020 5:33:40 PM org.apache.pdfbox.pdmodel.font.PDTrueTypeFont <init>\n",
            "WARNING: Using fallback font 'LiberationSans' for 'TimesNewRomanPSMT'\n",
            "Jul 06, 2020 5:33:41 PM org.apache.pdfbox.pdmodel.font.PDTrueTypeFont <init>\n",
            "WARNING: Using fallback font 'LiberationSans' for 'TimesNewRomanPSMT'\n",
            "Jul 06, 2020 5:33:41 PM org.apache.pdfbox.pdmodel.font.PDTrueTypeFont <init>\n",
            "WARNING: Using fallback font 'LiberationSans' for 'TimesNewRomanPSMT'\n",
            "\n"
          ],
          "name": "stderr"
        },
        {
          "output_type": "stream",
          "text": [
            "[]\n"
          ],
          "name": "stdout"
        }
      ]
    }
  ]
}